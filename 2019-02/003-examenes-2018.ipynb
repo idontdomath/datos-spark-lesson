{
 "cells": [
  {
   "cell_type": "code",
   "execution_count": 1,
   "metadata": {},
   "outputs": [],
   "source": [
    "import pyspark\n",
    "\n",
    "try: \n",
    "    type(sc)\n",
    "except NameError:\n",
    "    sc = pyspark.SparkContext('local[*]')"
   ]
  },
  {
   "cell_type": "markdown",
   "metadata": {},
   "source": [
    "## Primer Cuatrimestre de 2018. Examen parcial, primera oportunidad.\n",
    "\n",
    "Nintendo of America (EEUU) tiene\n",
    "información de ventas de videojuegos\n",
    "físicas mensuales totalizadas en EEUU\n",
    "las cuales se realizan en cadenas de\n",
    "tiendas de videojuegos en el siguiente\n",
    "RDD: (id_videojuego, id_tienda, mes,\n",
    "anio, total_ventas_mensuales).\n",
    "\n",
    "Por otro lado tenemos un RDD con\n",
    "información de las tiendas y de su\n",
    "ubicación (id_tienda, direccion, latitud,\n",
    "longitud, codigo_postal, estado).\n",
    "Con esta información escribir un\n",
    "programa en pySpark para obtener la\n",
    "tienda que realizó menor cantidad de\n",
    "ventas en el estado de \"Georgia\" en todo\n",
    "el año 2017. "
   ]
  },
  {
   "cell_type": "markdown",
   "metadata": {},
   "source": [
    "Criterio: Es importante filtrar los datos que son necesarios antes de comenzar a trabajar, si no lo hacen se descuenta un min de 5ptos. Hay descuentos de 3\n",
    "ptos si realizan operaciones de mas, o ineficientes (por ejemplo realizar un takeordered cuando necesitan solo obtener mínimo).\n",
    "Si los formatos para realizar el join no se corresponde a (K, V) descuento de 5 puntos. "
   ]
  },
  {
   "cell_type": "code",
   "execution_count": 39,
   "metadata": {},
   "outputs": [],
   "source": [
    "sales = [\n",
    "    (1, 1, '01', '2017', 500), # sera la minima\n",
    "    (1, 2, '01', '2017', 500),\n",
    "    (1, 2, '01', '2017', 500),\n",
    "    (1, 2, '01', '2017', 500),\n",
    "    (1, 2, '01', '2017', 500),\n",
    "    (1, 1, '01', '2016', 500),\n",
    "    (1, 2, '01', '2016', 500),\n",
    "    (1, 2, '01', '2016', 500),\n",
    "    (1, 2, '01', '2016', 500),\n",
    "    (1, 2, '01', '2016', 500),\n",
    "    (2, 3, '01', '2017', 500),\n",
    "    (2, 3, '01', '2017', 500),\n",
    "    (2, 3, '01', '2017', 500),\n",
    "    (2, 3, '01', '2017', 500),\n",
    "    (2, 3, '01', '2017', 500),\n",
    "    (4, 3, '01', '2017', 500),\n",
    "    (4, 3, '01', '2017', 500),\n",
    "    (4, 3, '02', '2017', 500),\n",
    "    (4, 3, '03', '2017', 500),    \n",
    "\n",
    "]\n",
    "\n",
    "stores = [\n",
    "    (1 , 'address 1', -1, -1, '30002', 'Georgia'),\n",
    "    (2 , 'address 2', -2, -2, '30003', 'Georgia'),\n",
    "    (3 , 'address 2', -3, -3, '30004', 'Georgia'),\n",
    "    (4 , 'address 2', -4, -4, '10119', 'New York')    \n",
    "]"
   ]
  },
  {
   "cell_type": "code",
   "execution_count": 40,
   "metadata": {},
   "outputs": [],
   "source": [
    "# Obtener la tienda que realizó menor cantidad de ventas en el estado de \"Georgia\" en todo el año 2017"
   ]
  },
  {
   "cell_type": "code",
   "execution_count": 41,
   "metadata": {},
   "outputs": [],
   "source": [
    "salesRdd = sc.parallelize(sales)\n",
    "storesRdd = sc.parallelize(stores)"
   ]
  },
  {
   "cell_type": "code",
   "execution_count": 42,
   "metadata": {},
   "outputs": [],
   "source": [
    "# filtramos la informacion de 2017 de ventas y realizamos un cambio de clave\n",
    "salesToJoin = salesRdd.filter(lambda x: x[3] == '2017')\\\n",
    "    .map(lambda x: (x[1], (x[1],x[4]))) # (K,V) K: id_tienda, V: (id_tienda, total_ventas_mensuales)\n",
    "\n",
    "# consideramos solo tiendas de Georgia\n",
    "storesToJoin = storesRdd.filter(lambda x: x[5] == 'Georgia')\\\n",
    "    .map(lambda x: (x[0], x[0]))"
   ]
  },
  {
   "cell_type": "code",
   "execution_count": 50,
   "metadata": {},
   "outputs": [
    {
     "data": {
      "text/plain": [
       "(1, 500)"
      ]
     },
     "execution_count": 50,
     "metadata": {},
     "output_type": "execute_result"
    }
   ],
   "source": [
    "# realizamos el join de ambos data frames\n",
    "# simplificamos el formato para evitar los reduce complejos\n",
    "# sumarizamos cantidad de ventas por tienda\n",
    "# buscamos el minimo con reduce\n",
    "salesToJoin.join(storesToJoin)\\\n",
    "    .map(lambda x: (x[0], x[1][0][1]))\\\n",
    "    .reduceByKey(lambda x, y: x+y)\\\n",
    "    .reduce(lambda x, y: x if x[1] < y[1] else y)"
   ]
  },
  {
   "cell_type": "markdown",
   "metadata": {},
   "source": [
    "## Primer Cuatrimestre de 2018. Examen parcial, tercera oportunidad\n",
    "\n",
    "El GCPD (Gotham City Police Dept) recolecta la información de casos policiales que acontecen en Ciudad Gótica. Esta información se encuentra guardada en un archivo con el siguiente formato: (fecha, id_caso, descripción, estado_caso, categoría, latitud, longitud).\n",
    "\n",
    "Los posibles estados que puede tener un caso son 1: caso abierto, 2: caso resuelto, 3: cerrado sin resolución. Las fechas se encuentran en el formato YYYY-MM-DD. \n",
    "\n",
    "Por otro lado el comisionado Gordon guarda un registro detallado sobre en cuáles casos fue activada la batiseñal para pedir ayuda del vigilante, Batman. Esta información se encuentra en un archivo con el siguiente formato (id_caso, respuesta), siendo campo respuesta si la señal tuvo una respuesta positiva (1) o negativa (0) de parte de él.\n",
    "El sector encargado de las estadísticas oficiales del GCPD quiere analizar las siguientes situaciones:\n",
    "\n",
    "a)  Las categorías que hayan incrementado su tasa de resolución en al menos un 10%  en el último trimestre, con respecto al trimestre anterior.\n",
    "b) Tasa de participación de Batman por categoría, para los delitos contra la propiedad (que enmarcan las categorías incendio intencional, robo, hurto, y robo de vehículos) "
   ]
  },
  {
   "cell_type": "markdown",
   "metadata": {},
   "source": [
    "Resolución:\n",
    "\n",
    "Primero filter por fecha ult dos trimestres. Luego map con key compuesta categoria y trimestre y value (estado_caso == resuelto, estado == sin_resolucion or estado == resuelto).  ReduceByKey, donde sumes los dos values. Un map cambiando la clave a categoria, y dejando en value el trimestre y los dos valores. Un groupByKey para juntar en la misma categoria los dos valores de cada trimestre. Por ultimo un filter que compare las tasas de cada trimestre, para ver cuales cumplen con la condición. Collect al final. Vale 8 puntos. \n",
    "\n",
    "Si no filtran al ppio descuento 3 puntos. Map u operaciones innecesarias descuento de 3 puntos mínimo.\n",
    "\n",
    "Otra solución posible es: se pueden generar dos RDD: uno para cada trimestre. Sobre esos dos RDD, se calculan las tasas de resolución por categoría y luego se los joinea por el campo de categoría para poder verificar la condición de que haya incrementado la resolución en un 10%. Esta segunda alternativa no es escalable, ya que si tuvieramos que trabajar con mas trimestres o hacer el corte por mes o por dia no tendria sentido generar un rdd por dia. (Descuento de 5puntos)\n",
    "\n",
    "b) \tSerá necesario primero filtrar el RDD por las categorías necesarias para reducir el volumen de información (descuento de 3 puntos si lo hacen después) y luego joinear por id_caso con el segundo RDD utilizando un left join (descuento de 3 puntos si se usa inner, 5 puntos si las claves no coinciden, no sirve). El left join nos dará aquellos casos en los que batman fue llamado y en los que no fue llamados. A partir de ahí, podemos mapear algo del estilo (categoria, (fue_llamado, 1)) y con un reduceByKey calcular la tasa de participación. El campo “fue_llamado” será 1 si respondió a la batiseñal o 0 en caso contrario. El b vale 7 puntos."
   ]
  },
  {
   "cell_type": "code",
   "execution_count": 201,
   "metadata": {},
   "outputs": [],
   "source": [
    "# (fecha, id_caso, descripción, estado_caso, categoría, latitud, longitud).\n",
    "cases = [(\"2019-01-01\", 1, \"case 1\", 2, \"otro delito\", -1, -1), \n",
    "         (\"2019-06-01\", 2, \"case 2\", 2, \"robo\", -1, -1),\n",
    "         (\"2019-06-01\", 3, \"case 2\", 3, \"robo\", -1, -1),         \n",
    "         (\"2019-06-01\", 4, \"case 2\", 1, \"robo\", -1, -1),         \n",
    "         (\"2019-06-01\", 5, \"case 2\", 2, \"robo\", -1, -1),\n",
    "         (\"2019-09-01\", 6, \"case 2\", 2, \"robo\", -1, -1),\n",
    "         (\"2019-09-01\", 7, \"case 2\", 2, \"robo\", -1, -1),         \n",
    "         (\"2019-09-01\", 8, \"case 2\", 2, \"robo\", -1, -1),\n",
    "         (\"2019-09-01\", 9, \"case 2\", 2, \"robo\", -1, -1),\n",
    "         (\"2019-09-01\", 10, \"case 2\", 3, \"robo\", -1, -1),\n",
    "         (\"2019-09-01\", 60, \"case 2\", 3, \"robo\", -1, -1),\n",
    "         (\"2019-09-01\", 70, \"case 2\", 3, \"robo\", -1, -1),         \n",
    "         (\"2019-09-01\", 80, \"case 2\", 1, \"robo\", -1, -1),\n",
    "         (\"2019-09-01\", 90, \"case 2\", 2, \"robo\", -1, -1),\n",
    "         (\"2019-09-01\", 100, \"case 2\", 2, \"robo\", -1, -1),\n",
    "         (\"2019-09-01\", 600, \"case 2\", 2, \"robo\", -1, -1),\n",
    "         (\"2019-09-01\", 700, \"case 2\", 3, \"robo\", -1, -1),         \n",
    "         (\"2019-09-01\", 800, \"case 2\", 1, \"robo\", -1, -1),\n",
    "         (\"2019-09-01\", 900, \"case 2\", 1, \"robo\", -1, -1),\n",
    "         (\"2019-09-01\", 1000, \"case 2\", 1, \"robo\", -1, -1),\n",
    "         (\"2019-09-01\", 6000, \"case 2\", 2, \"robo\", -1, -1),\n",
    "         (\"2019-09-01\", 7000, \"case 2\", 2, \"robo\", -1, -1),         \n",
    "         (\"2019-09-01\", 8000, \"case 2\", 3, \"robo\", -1, -1),\n",
    "         (\"2019-09-01\", 9000, \"case 2\", 1, \"robo\", -1, -1),\n",
    "         (\"2019-09-01\", 10000, \"case 2\", 2, \"robo\", -1, -1),\n",
    "         (\"2019-06-01\", 92, \"case 2\", 2, \"hurto\", -1, -1),\n",
    "         (\"2019-06-01\", 93, \"case 2\", 3, \"hurto\", -1, -1),         \n",
    "         (\"2019-06-01\", 94, \"case 2\", 3, \"hurto\", -1, -1),         \n",
    "         (\"2019-06-01\", 95, \"case 2\", 3, \"hurto\", -1, -1),\n",
    "         (\"2019-09-01\", 96, \"case 2\", 2, \"hurto\", -1, -1),\n",
    " \n",
    "        ]\n",
    "\n",
    "# (id_caso, respuesta)\n",
    "batsignal = [(1,1),\n",
    "         (2,1),\n",
    "         (3,0),\n",
    "         (4,0),\n",
    "         (5,1),\n",
    "         (6,0),\n",
    "         (7,1),\n",
    "         (8,0),\n",
    "         (9,1),\n",
    "         (10,0),         \n",
    "         (60,0),\n",
    "         (70,1),\n",
    "         (80,1),\n",
    "         (90,1),\n",
    "         (100,1),\n",
    "         (600,0),\n",
    "         (700,1),\n",
    "         (800,0),\n",
    "         (900,1),\n",
    "         (1000,1),\n",
    "         (6000,0),\n",
    "         (7000,1),\n",
    "         (8000,0),\n",
    "         (9000,1),\n",
    "         (10000,1),\n",
    "         (92,0),\n",
    "         (93,0),             \n",
    "         (94,0),\n",
    "         (95,0),             \n",
    "         (96,1)             \n",
    "        ]"
   ]
  },
  {
   "cell_type": "code",
   "execution_count": 202,
   "metadata": {},
   "outputs": [],
   "source": [
    "casesRdd = sc.parallelize(cases)\n",
    "batsignalRdd = sc.parallelize(batsignal)"
   ]
  },
  {
   "cell_type": "code",
   "execution_count": 203,
   "metadata": {},
   "outputs": [],
   "source": [
    "#a) Las categorías que hayan incrementado su tasa de resolución en al menos un 10% en el último trimestre, con respecto al trimestre anterior.\n",
    "\n",
    "# filtramos datos de los trimestres correspondientes\n",
    "cases_filtered = casesRdd.filter(lambda x: (x[0] >= '2019-04-00' and x[0] < '2019-10-00'))\n",
    "#cases_filtered.collect()"
   ]
  },
  {
   "cell_type": "code",
   "execution_count": 204,
   "metadata": {},
   "outputs": [],
   "source": [
    "def generate_key(x):\n",
    "    term = 3\n",
    "    if ((x[0] >= '2019-04-00') and (x[0] < '2019-07-00')):\n",
    "        term = 2\n",
    "    \n",
    "    # K: (categoria, numero_trimestre)\n",
    "    # V: (estado_caso == resuelto, estado == sin_resolucion or estado == resuelto)\n",
    "    return ((x[4],term), (int(x[3] == 2), int((x[3] == 3 or x[3] == 2))))"
   ]
  },
  {
   "cell_type": "code",
   "execution_count": 205,
   "metadata": {},
   "outputs": [
    {
     "data": {
      "text/plain": [
       "[(('robo', 2), (1, 1)),\n",
       " (('robo', 2), (0, 1)),\n",
       " (('robo', 2), (0, 0)),\n",
       " (('robo', 2), (1, 1)),\n",
       " (('robo', 3), (1, 1)),\n",
       " (('robo', 3), (1, 1)),\n",
       " (('robo', 3), (1, 1)),\n",
       " (('robo', 3), (1, 1)),\n",
       " (('robo', 3), (0, 1)),\n",
       " (('robo', 3), (0, 1)),\n",
       " (('robo', 3), (0, 1)),\n",
       " (('robo', 3), (0, 0)),\n",
       " (('robo', 3), (1, 1)),\n",
       " (('robo', 3), (1, 1)),\n",
       " (('robo', 3), (1, 1)),\n",
       " (('robo', 3), (0, 1)),\n",
       " (('robo', 3), (0, 0)),\n",
       " (('robo', 3), (0, 0)),\n",
       " (('robo', 3), (0, 0)),\n",
       " (('robo', 3), (1, 1)),\n",
       " (('robo', 3), (1, 1)),\n",
       " (('robo', 3), (0, 1)),\n",
       " (('robo', 3), (0, 0)),\n",
       " (('robo', 3), (1, 1)),\n",
       " (('hurto', 2), (1, 1)),\n",
       " (('hurto', 2), (0, 1)),\n",
       " (('hurto', 2), (0, 1)),\n",
       " (('hurto', 2), (0, 1)),\n",
       " (('hurto', 3), (1, 1))]"
      ]
     },
     "execution_count": 205,
     "metadata": {},
     "output_type": "execute_result"
    }
   ],
   "source": [
    "cases_per_cat_term = cases_filtered.map(generate_key)\n",
    "cases_per_cat_term.collect()"
   ]
  },
  {
   "cell_type": "code",
   "execution_count": 206,
   "metadata": {},
   "outputs": [
    {
     "data": {
      "text/plain": [
       "[(('robo', 3), (10, 15)),\n",
       " (('hurto', 2), (1, 4)),\n",
       " (('robo', 2), (2, 3)),\n",
       " (('hurto', 3), (1, 1))]"
      ]
     },
     "execution_count": 206,
     "metadata": {},
     "output_type": "execute_result"
    }
   ],
   "source": [
    "reduced_cases_per_cat_term = cases_per_cat_term.reduceByKey(lambda x,y: (x[0]+y[0],x[1]+y[1]))\n",
    "reduced_cases_per_cat_term.collect()"
   ]
  },
  {
   "cell_type": "code",
   "execution_count": 207,
   "metadata": {},
   "outputs": [
    {
     "data": {
      "text/plain": [
       "[('robo', (3, 0.6666666666666666)),\n",
       " ('hurto', (2, 0.25)),\n",
       " ('robo', (2, 0.6666666666666666)),\n",
       " ('hurto', (3, 1.0))]"
      ]
     },
     "execution_count": 207,
     "metadata": {},
     "output_type": "execute_result"
    }
   ],
   "source": [
    "cat_values = reduced_cases_per_cat_term.map(lambda x: (x[0][0], (x[0][1], float(x[1][0]/x[1][1]))))\n",
    "cat_values.collect()                                            "
   ]
  },
  {
   "cell_type": "code",
   "execution_count": 208,
   "metadata": {},
   "outputs": [
    {
     "data": {
      "text/plain": [
       "[('hurto', <pyspark.resultiterable.ResultIterable at 0x1133f0a20>),\n",
       " ('robo', <pyspark.resultiterable.ResultIterable at 0x1133f0a58>)]"
      ]
     },
     "execution_count": 208,
     "metadata": {},
     "output_type": "execute_result"
    }
   ],
   "source": [
    "by_cat = cat_values.groupByKey()\n",
    "by_cat.collect()"
   ]
  },
  {
   "cell_type": "code",
   "execution_count": 209,
   "metadata": {},
   "outputs": [],
   "source": [
    "def filter_10p(x):\n",
    "    data = list(x[1])\n",
    "    print(data)\n",
    "    if data[0][0] == 2:\n",
    "        # es el segundo trimestre\n",
    "        return (data[1][1] - data[0][1] > 0.10)\n",
    "    else:\n",
    "        # es el tercer trimestre primero\n",
    "        return (data[0][1] - data[1][1] > 0.10)\n"
   ]
  },
  {
   "cell_type": "code",
   "execution_count": 210,
   "metadata": {},
   "outputs": [
    {
     "data": {
      "text/plain": [
       "[('hurto', [(2, 0.25), (3, 1.0)])]"
      ]
     },
     "execution_count": 210,
     "metadata": {},
     "output_type": "execute_result"
    }
   ],
   "source": [
    "# filtramos los resultados necesarios para quedarnos con aquellos que hayan tenido la variacion esperada\n",
    "# nota: se hace el map por formato de salida, se podria hacer con un mapValues\n",
    "by_cat.filter(filter_10p).map(lambda x: (x[0], list(x[1]))).collect()"
   ]
  },
  {
   "cell_type": "code",
   "execution_count": 211,
   "metadata": {},
   "outputs": [],
   "source": [
    "# b) Tasa de participación de Batman por categoría, para los delitos contra la propiedad (que enmarcan las categorías incendio intencional, robo, hurto, y robo de vehículos)"
   ]
  },
  {
   "cell_type": "code",
   "execution_count": 212,
   "metadata": {},
   "outputs": [],
   "source": [
    "def filter_by_category(x):\n",
    "    categories = set(['incendio intencional', 'robo', 'hurto', 'robo de vehiculos'])\n",
    "    return x[4] in categories"
   ]
  },
  {
   "cell_type": "code",
   "execution_count": 213,
   "metadata": {},
   "outputs": [],
   "source": [
    "cat_filtered = casesRdd.filter(filter_by_category)"
   ]
  },
  {
   "cell_type": "code",
   "execution_count": 214,
   "metadata": {},
   "outputs": [],
   "source": [
    "key_cat_filtered = cat_filtered.map(lambda x: (x[1],(x[4],1)))"
   ]
  },
  {
   "cell_type": "code",
   "execution_count": 215,
   "metadata": {},
   "outputs": [
    {
     "data": {
      "text/plain": [
       "[(8, (0, ('robo', 1))),\n",
       " (80, (1, ('robo', 1))),\n",
       " (600, (0, ('robo', 1))),\n",
       " (800, (0, ('robo', 1))),\n",
       " (1000, (1, ('robo', 1))),\n",
       " (6000, (0, ('robo', 1))),\n",
       " (7000, (1, ('robo', 1))),\n",
       " (8000, (0, ('robo', 1))),\n",
       " (9000, (1, ('robo', 1))),\n",
       " (10000, (1, ('robo', 1))),\n",
       " (96, (1, ('hurto', 1))),\n",
       " (1, (1, None)),\n",
       " (9, (1, ('robo', 1))),\n",
       " (2, (1, ('robo', 1))),\n",
       " (10, (0, ('robo', 1))),\n",
       " (90, (1, ('robo', 1))),\n",
       " (3, (0, ('robo', 1))),\n",
       " (4, (0, ('robo', 1))),\n",
       " (60, (0, ('robo', 1))),\n",
       " (100, (1, ('robo', 1))),\n",
       " (700, (1, ('robo', 1))),\n",
       " (900, (1, ('robo', 1))),\n",
       " (92, (0, ('hurto', 1))),\n",
       " (5, (1, ('robo', 1))),\n",
       " (93, (0, ('hurto', 1))),\n",
       " (6, (0, ('robo', 1))),\n",
       " (70, (1, ('robo', 1))),\n",
       " (94, (0, ('hurto', 1))),\n",
       " (7, (1, ('robo', 1))),\n",
       " (95, (0, ('hurto', 1)))]"
      ]
     },
     "execution_count": 215,
     "metadata": {},
     "output_type": "execute_result"
    }
   ],
   "source": [
    "joined = batsignalRdd.leftOuterJoin(key_cat_filtered)\n",
    "joined.collect()"
   ]
  },
  {
   "cell_type": "code",
   "execution_count": 216,
   "metadata": {},
   "outputs": [
    {
     "data": {
      "text/plain": [
       "[('robo', (1, 0)),\n",
       " ('robo', (1, 1)),\n",
       " ('robo', (1, 0)),\n",
       " ('robo', (1, 0)),\n",
       " ('robo', (1, 1)),\n",
       " ('robo', (1, 0)),\n",
       " ('robo', (1, 1)),\n",
       " ('robo', (1, 0)),\n",
       " ('robo', (1, 1)),\n",
       " ('robo', (1, 1)),\n",
       " ('hurto', (1, 1)),\n",
       " ('robo', (1, 1)),\n",
       " ('robo', (1, 1)),\n",
       " ('robo', (1, 0)),\n",
       " ('robo', (1, 1)),\n",
       " ('robo', (1, 0)),\n",
       " ('robo', (1, 0)),\n",
       " ('robo', (1, 0)),\n",
       " ('robo', (1, 1)),\n",
       " ('robo', (1, 1)),\n",
       " ('robo', (1, 1)),\n",
       " ('hurto', (1, 0)),\n",
       " ('robo', (1, 1)),\n",
       " ('hurto', (1, 0)),\n",
       " ('robo', (1, 0)),\n",
       " ('robo', (1, 1)),\n",
       " ('hurto', (1, 0)),\n",
       " ('robo', (1, 1)),\n",
       " ('hurto', (1, 0))]"
      ]
     },
     "execution_count": 216,
     "metadata": {},
     "output_type": "execute_result"
    }
   ],
   "source": [
    "# Filtramos aquellos cuya categoria es None dado que no los queremos en el resultado final\n",
    "# K: Category\n",
    "# V: (sucedio, fue_batman_a_la_senial)\n",
    "for_stats = joined.filter(lambda x: x[1][1] is not None).map(lambda x: (x[1][1][0], (x[1][1][1], x[1][0])))\n",
    "for_stats.collect()"
   ]
  },
  {
   "cell_type": "code",
   "execution_count": 217,
   "metadata": {},
   "outputs": [
    {
     "data": {
      "text/plain": [
       "[('robo', 0.5833333333333334), ('hurto', 0.2)]"
      ]
     },
     "execution_count": 217,
     "metadata": {},
     "output_type": "execute_result"
    }
   ],
   "source": [
    "for_stats.reduceByKey(lambda x,y: (x[0]+y[0], x[1]+y[1])).map(lambda x: (x[0],float(x[1][1]/x[1][0]))).collect()"
   ]
  }
 ],
 "metadata": {
  "kernelspec": {
   "display_name": "Python 3",
   "language": "python",
   "name": "python3"
  },
  "language_info": {
   "codemirror_mode": {
    "name": "ipython",
    "version": 3
   },
   "file_extension": ".py",
   "mimetype": "text/x-python",
   "name": "python",
   "nbconvert_exporter": "python",
   "pygments_lexer": "ipython3",
   "version": "3.6.4"
  }
 },
 "nbformat": 4,
 "nbformat_minor": 2
}
